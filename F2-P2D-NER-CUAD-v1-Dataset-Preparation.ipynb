{
 "cells": [
  {
   "cell_type": "markdown",
   "metadata": {},
   "source": [
    "## Paper 2 Data Workflow for Data Extraction - CUADv1 - Prepare Dataset"
   ]
  },
  {
   "cell_type": "code",
   "execution_count": 1,
   "metadata": {},
   "outputs": [],
   "source": [
    "import re, json, os, itertools\n",
    "import numpy as np\n",
    "import pandas as pd\n",
    "from tqdm import tqdm\n",
    "\n",
    "import matplotlib.pyplot as plt\n",
    "import seaborn as sns\n",
    "\n",
    "import spacy\n",
    "from spacy.lang.en import English\n",
    "from spacy.training import offsets_to_biluo_tags # requires spaCy 3.0"
   ]
  },
  {
   "cell_type": "code",
   "execution_count": 2,
   "metadata": {},
   "outputs": [],
   "source": [
    "# download transformer model for spaCy if required\n",
    "# !python -m spacy download en_core_web_md"
   ]
  },
  {
   "cell_type": "code",
   "execution_count": 3,
   "metadata": {},
   "outputs": [
    {
     "name": "stdout",
     "output_type": "stream",
     "text": [
      "\u001b[2K\u001b[38;5;2m✔ Loaded compatibility table\u001b[0m\n",
      "\u001b[1m\n",
      "================= Installed pipeline packages (spaCy v3.0.6) =================\u001b[0m\n",
      "\u001b[38;5;4mℹ spaCy installation:\n",
      "/home/phil/anaconda3/envs/p2d/lib/python3.8/site-packages/spacy\u001b[0m\n",
      "\n",
      "NAME             SPACY            VERSION                            \n",
      "en_core_web_md   >=3.0.0,<3.1.0   \u001b[38;5;2m3.0.0\u001b[0m   \u001b[38;5;2m✔\u001b[0m\n",
      "\n"
     ]
    }
   ],
   "source": [
    "!python -m spacy validate # Ensure minimum v3.0.0"
   ]
  },
  {
   "cell_type": "markdown",
   "metadata": {},
   "source": [
    "### 1. File handling - CUADv1"
   ]
  },
  {
   "cell_type": "code",
   "execution_count": 4,
   "metadata": {},
   "outputs": [],
   "source": [
    "MASTER_PATH = \"../CUAD-v1/\"\n",
    "JSONL_FILE = 'project_6_dataset.jsonl'\n",
    "JSONL_FILE_INS = 'project_7_dataset.jsonl'\n",
    "FEATURE_CLASS_LABELS = \"feature_class_labels.json\"\n",
    "DATA_FILE = 'cuad-v1-annotated.json'"
   ]
  },
  {
   "cell_type": "markdown",
   "metadata": {},
   "source": [
    "### 2. Text Data Preprocessing - CUADv1 - Continued"
   ]
  },
  {
   "cell_type": "markdown",
   "metadata": {},
   "source": [
    "#### Using Doccano to tag the text file dataset:\n",
    " - Install doccano at the command line: pip install doccano\n",
    " - At the command line change the directory to this directory\n",
    " - run doccano at the command line by typing 'doccano'\n",
    " - Application will be running at http://0.0.0.0:8000/\n",
    " - Username is 'admin', passowrd is 'password'\n",
    " - Use ctrl-c to end application"
   ]
  },
  {
   "cell_type": "markdown",
   "metadata": {},
   "source": [
    "#### Prepare updated dataset for fine-tuning Transformers with HuggingFace"
   ]
  },
  {
   "cell_type": "code",
   "execution_count": 5,
   "metadata": {},
   "outputs": [
    {
     "data": {
      "text/html": [
       "<div>\n",
       "<style scoped>\n",
       "    .dataframe tbody tr th:only-of-type {\n",
       "        vertical-align: middle;\n",
       "    }\n",
       "\n",
       "    .dataframe tbody tr th {\n",
       "        vertical-align: top;\n",
       "    }\n",
       "\n",
       "    .dataframe thead th {\n",
       "        text-align: right;\n",
       "    }\n",
       "</style>\n",
       "<table border=\"1\" class=\"dataframe\">\n",
       "  <thead>\n",
       "    <tr style=\"text-align: right;\">\n",
       "      <th></th>\n",
       "      <th>id</th>\n",
       "      <th>text</th>\n",
       "      <th>labels</th>\n",
       "    </tr>\n",
       "  </thead>\n",
       "  <tbody>\n",
       "    <tr>\n",
       "      <th>0</th>\n",
       "      <td>15501</td>\n",
       "      <td>Exhibit 99.1 JOINT FILING AGREEMENT The unders...</td>\n",
       "      <td>[[13, 35, DOC_NAME], [489, 505, AGMT_DATE], [5...</td>\n",
       "    </tr>\n",
       "    <tr>\n",
       "      <th>1</th>\n",
       "      <td>15502</td>\n",
       "      <td>[LOGO] AMENDMENT TO SECTION 2, PART B OF THE C...</td>\n",
       "      <td>[[7, 66, DOC_NAME], [166, 182, AGMT_DATE], [19...</td>\n",
       "    </tr>\n",
       "    <tr>\n",
       "      <th>2</th>\n",
       "      <td>15503</td>\n",
       "      <td>Exhibit 10.1 ENDORSEMENT AGREEMENT THIS ENDORS...</td>\n",
       "      <td>[[13, 34, DOC_NAME], [40, 61, DOC_NAME], [111,...</td>\n",
       "    </tr>\n",
       "    <tr>\n",
       "      <th>3</th>\n",
       "      <td>15504</td>\n",
       "      <td>Exhibit 10.6 TRADEMARK LICENSE AGREEMENT This ...</td>\n",
       "      <td>[]</td>\n",
       "    </tr>\n",
       "    <tr>\n",
       "      <th>4</th>\n",
       "      <td>15505</td>\n",
       "      <td>CONFIDENTIAL PORTIONS OMITTED EXHIBIT 10.16 [L...</td>\n",
       "      <td>[[78, 99, DOC_NAME], [105, 126, DOC_NAME], [18...</td>\n",
       "    </tr>\n",
       "  </tbody>\n",
       "</table>\n",
       "</div>"
      ],
      "text/plain": [
       "      id                                               text  \\\n",
       "0  15501  Exhibit 99.1 JOINT FILING AGREEMENT The unders...   \n",
       "1  15502  [LOGO] AMENDMENT TO SECTION 2, PART B OF THE C...   \n",
       "2  15503  Exhibit 10.1 ENDORSEMENT AGREEMENT THIS ENDORS...   \n",
       "3  15504  Exhibit 10.6 TRADEMARK LICENSE AGREEMENT This ...   \n",
       "4  15505  CONFIDENTIAL PORTIONS OMITTED EXHIBIT 10.16 [L...   \n",
       "\n",
       "                                              labels  \n",
       "0  [[13, 35, DOC_NAME], [489, 505, AGMT_DATE], [5...  \n",
       "1  [[7, 66, DOC_NAME], [166, 182, AGMT_DATE], [19...  \n",
       "2  [[13, 34, DOC_NAME], [40, 61, DOC_NAME], [111,...  \n",
       "3                                                 []  \n",
       "4  [[78, 99, DOC_NAME], [105, 126, DOC_NAME], [18...  "
      ]
     },
     "execution_count": 5,
     "metadata": {},
     "output_type": "execute_result"
    }
   ],
   "source": [
    "# JSONL is a multi-line json file and requires lines=True parameter\n",
    "# Bring in both sets of annotations and concatenate vertically \n",
    "df1 = pd.read_json (JSONL_FILE, lines=True)\n",
    "df2 = pd.read_json (JSONL_FILE_INS, lines=True)\n",
    "\n",
    "df = pd.concat([df1, df2], axis=0)\n",
    "df = df1 # Use this line to exclude the additional manually checked data\n",
    "df = df.drop(['meta', 'annotation_approver', 'comments'], axis=1)\n",
    "df.head()"
   ]
  },
  {
   "cell_type": "code",
   "execution_count": 6,
   "metadata": {},
   "outputs": [
    {
     "name": "stdout",
     "output_type": "stream",
     "text": [
      "<class 'pandas.core.frame.DataFrame'>\n",
      "RangeIndex: 349 entries, 0 to 348\n",
      "Data columns (total 3 columns):\n",
      " #   Column  Non-Null Count  Dtype \n",
      "---  ------  --------------  ----- \n",
      " 0   id      349 non-null    int64 \n",
      " 1   text    349 non-null    object\n",
      " 2   labels  349 non-null    object\n",
      "dtypes: int64(1), object(2)\n",
      "memory usage: 8.3+ KB\n"
     ]
    }
   ],
   "source": [
    "# Check the information and number of samples\n",
    "df.info()"
   ]
  },
  {
   "cell_type": "code",
   "execution_count": 7,
   "metadata": {},
   "outputs": [
    {
     "name": "stdout",
     "output_type": "stream",
     "text": [
      "<class 'pandas.core.frame.DataFrame'>\n",
      "Int64Index: 314 entries, 0 to 348\n",
      "Data columns (total 3 columns):\n",
      " #   Column  Non-Null Count  Dtype \n",
      "---  ------  --------------  ----- \n",
      " 0   id      314 non-null    int64 \n",
      " 1   text    314 non-null    object\n",
      " 2   labels  314 non-null    object\n",
      "dtypes: int64(1), object(2)\n",
      "memory usage: 9.8+ KB\n"
     ]
    }
   ],
   "source": [
    "# Some samples were not annotated as they were not suitable samples.\n",
    "# Eliminate any samples which were not annotated.\n",
    "df_cut = df[df['labels'].map(lambda d: len(d)) > 0].copy()\n",
    "df_cut.info()"
   ]
  },
  {
   "cell_type": "code",
   "execution_count": 8,
   "metadata": {},
   "outputs": [
    {
     "data": {
      "text/html": [
       "<div>\n",
       "<style scoped>\n",
       "    .dataframe tbody tr th:only-of-type {\n",
       "        vertical-align: middle;\n",
       "    }\n",
       "\n",
       "    .dataframe tbody tr th {\n",
       "        vertical-align: top;\n",
       "    }\n",
       "\n",
       "    .dataframe thead th {\n",
       "        text-align: right;\n",
       "    }\n",
       "</style>\n",
       "<table border=\"1\" class=\"dataframe\">\n",
       "  <thead>\n",
       "    <tr style=\"text-align: right;\">\n",
       "      <th></th>\n",
       "      <th>id</th>\n",
       "      <th>text</th>\n",
       "      <th>labels</th>\n",
       "      <th>tokens</th>\n",
       "    </tr>\n",
       "  </thead>\n",
       "  <tbody>\n",
       "    <tr>\n",
       "      <th>0</th>\n",
       "      <td>15501</td>\n",
       "      <td>Exhibit 99.1 JOINT FILING AGREEMENT The unders...</td>\n",
       "      <td>[[13, 35, DOC_NAME], [489, 505, AGMT_DATE], [5...</td>\n",
       "      <td>(Exhibit, 99.1, JOINT, FILING, AGREEMENT, The,...</td>\n",
       "    </tr>\n",
       "    <tr>\n",
       "      <th>1</th>\n",
       "      <td>15502</td>\n",
       "      <td>[LOGO] AMENDMENT TO SECTION 2, PART B OF THE C...</td>\n",
       "      <td>[[7, 66, DOC_NAME], [166, 182, AGMT_DATE], [19...</td>\n",
       "      <td>([, LOGO, ], AMENDMENT, TO, SECTION, 2, ,, PAR...</td>\n",
       "    </tr>\n",
       "    <tr>\n",
       "      <th>2</th>\n",
       "      <td>15503</td>\n",
       "      <td>Exhibit 10.1 ENDORSEMENT AGREEMENT THIS ENDORS...</td>\n",
       "      <td>[[13, 34, DOC_NAME], [40, 61, DOC_NAME], [111,...</td>\n",
       "      <td>(Exhibit, 10.1, ENDORSEMENT, AGREEMENT, THIS, ...</td>\n",
       "    </tr>\n",
       "    <tr>\n",
       "      <th>4</th>\n",
       "      <td>15505</td>\n",
       "      <td>CONFIDENTIAL PORTIONS OMITTED EXHIBIT 10.16 [L...</td>\n",
       "      <td>[[78, 99, DOC_NAME], [105, 126, DOC_NAME], [18...</td>\n",
       "      <td>(CONFIDENTIAL, PORTIONS, OMITTED, EXHIBIT, 10....</td>\n",
       "    </tr>\n",
       "    <tr>\n",
       "      <th>5</th>\n",
       "      <td>15506</td>\n",
       "      <td>Exhibit 4.5 SUPPLY AGREEMENT between PROFOUND ...</td>\n",
       "      <td>[[12, 28, DOC_NAME], [37, 58, PARTY], [63, 101...</td>\n",
       "      <td>(Exhibit, 4.5, SUPPLY, AGREEMENT, between, PRO...</td>\n",
       "    </tr>\n",
       "  </tbody>\n",
       "</table>\n",
       "</div>"
      ],
      "text/plain": [
       "      id                                               text  \\\n",
       "0  15501  Exhibit 99.1 JOINT FILING AGREEMENT The unders...   \n",
       "1  15502  [LOGO] AMENDMENT TO SECTION 2, PART B OF THE C...   \n",
       "2  15503  Exhibit 10.1 ENDORSEMENT AGREEMENT THIS ENDORS...   \n",
       "4  15505  CONFIDENTIAL PORTIONS OMITTED EXHIBIT 10.16 [L...   \n",
       "5  15506  Exhibit 4.5 SUPPLY AGREEMENT between PROFOUND ...   \n",
       "\n",
       "                                              labels  \\\n",
       "0  [[13, 35, DOC_NAME], [489, 505, AGMT_DATE], [5...   \n",
       "1  [[7, 66, DOC_NAME], [166, 182, AGMT_DATE], [19...   \n",
       "2  [[13, 34, DOC_NAME], [40, 61, DOC_NAME], [111,...   \n",
       "4  [[78, 99, DOC_NAME], [105, 126, DOC_NAME], [18...   \n",
       "5  [[12, 28, DOC_NAME], [37, 58, PARTY], [63, 101...   \n",
       "\n",
       "                                              tokens  \n",
       "0  (Exhibit, 99.1, JOINT, FILING, AGREEMENT, The,...  \n",
       "1  ([, LOGO, ], AMENDMENT, TO, SECTION, 2, ,, PAR...  \n",
       "2  (Exhibit, 10.1, ENDORSEMENT, AGREEMENT, THIS, ...  \n",
       "4  (CONFIDENTIAL, PORTIONS, OMITTED, EXHIBIT, 10....  \n",
       "5  (Exhibit, 4.5, SUPPLY, AGREEMENT, between, PRO...  "
      ]
     },
     "execution_count": 8,
     "metadata": {},
     "output_type": "execute_result"
    }
   ],
   "source": [
    "# We tokenize each agreement prior to bringing into the transformer model\n",
    "# Create tokens using spaCy\n",
    "nlp = English()\n",
    "df_cut['tokens'] = df_cut['text'].apply(lambda x: nlp(x))\n",
    "df_cut.head()"
   ]
  },
  {
   "cell_type": "code",
   "execution_count": 9,
   "metadata": {},
   "outputs": [
    {
     "name": "stdout",
     "output_type": "stream",
     "text": [
      "12 28 DOC_NAME\n",
      "37 58 PARTY\n",
      "63 101 PARTY\n",
      "125 138 AGMT_DATE\n",
      "148 169 PARTY\n",
      "380 418 PARTY\n",
      "\n",
      "\n",
      "Exhibit 4.5 SUPPLY AGREEMENT between PROFOUND MEDICAL INC. and PHILIPS MEDICAL SYSTEMS NEDERLAND B.V. THIS AGREEMENT is made July 31, 2017 BETWEEN: PROFOUND MEDICAL INC., a company incorporated under the laws of the province of Ontario and having its registered address at 2400 Skymark, Unit 6, Mississauga, Ontario L4W 5K5, Canada (hereinafter referred to as “Customer”) - and - PHILIPS MEDICAL SYSTEMS NEDERLAND B.V., a company incorporated under the laws of the Netherlands with its principal place of business at Veenpluis 4-6 5684 PC Best, the Netherlands (hereinafter referred to as “Philips”) Customer and Philips hereinafter also collectively referred to as the “Parties” and individually as a “Party”. WHEREAS: A. Pursuant to the Asset and Share Purchase Agreement (the “Purchase Agreement”) entered into on June 30, 2017 by Customer, Koninklijke Philips NV (“Philips NV”) N.V. and Customer agreed to execute and deliver (or cause to be executed and delivered) certain ancillary agreements o\n"
     ]
    }
   ],
   "source": [
    "# Check an example of the text indices and labels\n",
    "row = df_cut.iloc[4]\n",
    "doc = row['tokens']\n",
    "for start, end, label in row['labels']:\n",
    "    print(start, end, label)\n",
    "print(\"\\n\")\n",
    "print(doc)"
   ]
  },
  {
   "cell_type": "code",
   "execution_count": 10,
   "metadata": {},
   "outputs": [
    {
     "name": "stdout",
     "output_type": "stream",
     "text": [
      "The total number of labels in the dataset is: 1697\n"
     ]
    },
    {
     "data": {
      "image/png": "[encoded data removed]",
      "text/plain": [
       "<Figure size 432x288 with 1 Axes>"
      ]
     },
     "metadata": {
      "needs_background": "light"
     },
     "output_type": "display_data"
    }
   ],
   "source": [
    "# Count and visualise the amount of labels\n",
    "\n",
    "DOC_NAME_COUNT = 0\n",
    "DATE_COUNT = 0\n",
    "PARTIES_COUNT = 0\n",
    "for index, row in df_cut.iterrows():\n",
    "    for l in row['labels']:\n",
    "        if l[2] == \"DOC_NAME\":\n",
    "            DOC_NAME_COUNT += 1\n",
    "        if l[2] == \"AGMT_DATE\":\n",
    "            DATE_COUNT += 1\n",
    "        if l[2] == \"PARTY\":\n",
    "            PARTIES_COUNT += 1\n",
    "\n",
    "# Create DataFrame for the bar plot\n",
    "data=pd.DataFrame.from_dict({\"Document Name\":[DOC_NAME_COUNT],\n",
    "                             \"Date of Agreement\":[DATE_COUNT],\n",
    "                             \"Parties\":[PARTIES_COUNT]})\n",
    "\n",
    "# Use Seaborn for the bar plot\n",
    "splot = sns.barplot(palette=\"pastel\", data=data)\n",
    "splot.set(title='Number of labels in dataset', ylabel='Count')\n",
    "\n",
    "# Annotate the bars with the count of labels\n",
    "for p in splot.patches:\n",
    "    splot.annotate(format(p.get_height(), '.0f'), \n",
    "                   (p.get_x() + p.get_width() / 2.,p.get_height()), \n",
    "                   ha = 'center', va = 'center', \n",
    "                   size=10,\n",
    "                   xytext = (0, -12), \n",
    "                   textcoords = 'offset points')\n",
    "# Show plot\n",
    "plt.show\n",
    "\n",
    "print(\"The total number of labels in the dataset is:\", DOC_NAME_COUNT+DATE_COUNT+PARTIES_COUNT)"
   ]
  },
  {
   "cell_type": "code",
   "execution_count": 11,
   "metadata": {},
   "outputs": [
    {
     "data": {
      "text/plain": [
       "(the laws of the province,)"
      ]
     },
     "execution_count": 11,
     "metadata": {},
     "output_type": "execute_result"
    }
   ],
   "source": [
    "# Check how the entity labels match up with the tokens\n",
    "ents=[]\n",
    "\n",
    "for start, end, label in row['labels']:\n",
    "    if doc.char_span(start, end, label) != None:\n",
    "        ent = doc.char_span(start, end, label)\n",
    "        ents.append(ent)\n",
    "    elif doc.char_span(start, end+1, label) != None:\n",
    "        ent = doc.char_span(start, end+1, label)\n",
    "        ents.append(ent)\n",
    "    elif doc.char_span(start+1, end, label) != None:\n",
    "        ent = doc.char_span(start+1, end, label)\n",
    "        ents.append(ent)\n",
    "    elif doc.char_span(start, end-1, label) != None:\n",
    "        ent = doc.char_span(start, end-1, label)\n",
    "        ents.append(ent)\n",
    "doc.ents = ents\n",
    "doc.ents"
   ]
  },
  {
   "cell_type": "code",
   "execution_count": 12,
   "metadata": {},
   "outputs": [],
   "source": [
    "# Each word must be seperated for the transformer using the IOB format\n",
    "# Create tags using token.ent_iob_ and add to the DataFrame\n",
    "# Allow for any character misalignment between spaCy tokenization and Doccano character indices\n",
    "tags_list_iob = []\n",
    "for index, row in df_cut.iterrows():\n",
    "    doc = row['tokens']\n",
    "    ents=[]\n",
    "    for start, end, label in row['labels']:\n",
    "        if doc.char_span(start, end, label) != None:\n",
    "            ent = doc.char_span(start, end, label)\n",
    "            ents.append(ent)\n",
    "        elif doc.char_span(start, end+1, label) != None:\n",
    "            ent = doc.char_span(start, end+1, label)\n",
    "            ents.append(ent)\n",
    "        elif doc.char_span(start+1, end, label) != None:\n",
    "            ent = doc.char_span(start+1, end, label)\n",
    "            ents.append(ent)\n",
    "        elif doc.char_span(start, end-1, label) != None:\n",
    "            ent = doc.char_span(start, end-1, label)\n",
    "            ents.append(ent)\n",
    "        elif doc.char_span(start-1, end, label) != None:\n",
    "            ent = doc.char_span(start-1, end, label)\n",
    "            ents.append(ent)\n",
    "    doc.ents = ents\n",
    "    iob_tags = [f\"{t.ent_iob_}-{t.ent_type_}\" if t.ent_iob_ != \"O\" else \"O\" for t in doc]\n",
    "    tags_list_iob.append(iob_tags)\n",
    "df_cut['tags'] = tags_list_iob"
   ]
  },
  {
   "cell_type": "code",
   "execution_count": 13,
   "metadata": {},
   "outputs": [
    {
     "name": "stdout",
     "output_type": "stream",
     "text": [
      "<class 'pandas.core.frame.DataFrame'>\n",
      "Int64Index: 314 entries, 0 to 348\n",
      "Data columns (total 5 columns):\n",
      " #   Column  Non-Null Count  Dtype \n",
      "---  ------  --------------  ----- \n",
      " 0   id      314 non-null    int64 \n",
      " 1   text    314 non-null    object\n",
      " 2   labels  314 non-null    object\n",
      " 3   tokens  314 non-null    object\n",
      " 4   tags    314 non-null    object\n",
      "dtypes: int64(1), object(4)\n",
      "memory usage: 14.7+ KB\n"
     ]
    }
   ],
   "source": [
    "# Check to ensure we have all the data (all non-null)\n",
    "df_cut.info()"
   ]
  },
  {
   "cell_type": "code",
   "execution_count": 14,
   "metadata": {},
   "outputs": [
    {
     "name": "stdout",
     "output_type": "stream",
     "text": [
      "['B-AGMT_DATE', 'B-DOC_NAME', 'B-PARTY', 'I-AGMT_DATE', 'I-DOC_NAME', 'I-PARTY', 'O']\n"
     ]
    }
   ],
   "source": [
    "# Generate list of the IOB feature class labels from tags\n",
    "all_tags = list(itertools.chain.from_iterable(tags_list_iob))\n",
    "\n",
    "def unique(list1):\n",
    "    # insert the list to the set\n",
    "    list_set = set(list1)\n",
    "    # convert the set to the list\n",
    "    unique_list = (list(list_set))\n",
    "    unique_list.sort()\n",
    "    return unique_list\n",
    "\n",
    "feature_class_labels = unique(all_tags)\n",
    "print(feature_class_labels)"
   ]
  },
  {
   "cell_type": "code",
   "execution_count": 15,
   "metadata": {},
   "outputs": [],
   "source": [
    "# Generate the NER index tags for each token\n",
    "df_cut['ner_tags'] = df_cut['tags'].apply(lambda x: [feature_class_labels.index(tag) for tag in x])\n"
   ]
  },
  {
   "cell_type": "code",
   "execution_count": 16,
   "metadata": {},
   "outputs": [
    {
     "data": {
      "text/html": [
       "<div>\n",
       "<style scoped>\n",
       "    .dataframe tbody tr th:only-of-type {\n",
       "        vertical-align: middle;\n",
       "    }\n",
       "\n",
       "    .dataframe tbody tr th {\n",
       "        vertical-align: top;\n",
       "    }\n",
       "\n",
       "    .dataframe thead th {\n",
       "        text-align: right;\n",
       "    }\n",
       "</style>\n",
       "<table border=\"1\" class=\"dataframe\">\n",
       "  <thead>\n",
       "    <tr style=\"text-align: right;\">\n",
       "      <th></th>\n",
       "      <th>id</th>\n",
       "      <th>text</th>\n",
       "      <th>labels</th>\n",
       "      <th>tokens</th>\n",
       "      <th>tags</th>\n",
       "      <th>ner_tags</th>\n",
       "      <th>split_tokens</th>\n",
       "    </tr>\n",
       "  </thead>\n",
       "  <tbody>\n",
       "    <tr>\n",
       "      <th>0</th>\n",
       "      <td>15501</td>\n",
       "      <td>Exhibit 99.1 JOINT FILING AGREEMENT The unders...</td>\n",
       "      <td>[[13, 35, DOC_NAME], [489, 505, AGMT_DATE], [5...</td>\n",
       "      <td>(Exhibit, 99.1, JOINT, FILING, AGREEMENT, The,...</td>\n",
       "      <td>[O, O, B-DOC_NAME, I-DOC_NAME, I-DOC_NAME, O, ...</td>\n",
       "      <td>[6, 6, 1, 4, 4, 6, 6, 6, 6, 6, 6, 6, 6, 6, 6, ...</td>\n",
       "      <td>[Exhibit, 99.1, JOINT, FILING, AGREEMENT, The,...</td>\n",
       "    </tr>\n",
       "    <tr>\n",
       "      <th>1</th>\n",
       "      <td>15502</td>\n",
       "      <td>[LOGO] AMENDMENT TO SECTION 2, PART B OF THE C...</td>\n",
       "      <td>[[7, 66, DOC_NAME], [166, 182, AGMT_DATE], [19...</td>\n",
       "      <td>([, LOGO, ], AMENDMENT, TO, SECTION, 2, ,, PAR...</td>\n",
       "      <td>[O, O, O, B-DOC_NAME, I-DOC_NAME, I-DOC_NAME, ...</td>\n",
       "      <td>[6, 6, 6, 1, 4, 4, 4, 4, 4, 4, 4, 4, 4, 4, 4, ...</td>\n",
       "      <td>[[, LOGO, ], AMENDMENT, TO, SECTION, 2, ,, PAR...</td>\n",
       "    </tr>\n",
       "    <tr>\n",
       "      <th>2</th>\n",
       "      <td>15503</td>\n",
       "      <td>Exhibit 10.1 ENDORSEMENT AGREEMENT THIS ENDORS...</td>\n",
       "      <td>[[13, 34, DOC_NAME], [40, 61, DOC_NAME], [111,...</td>\n",
       "      <td>(Exhibit, 10.1, ENDORSEMENT, AGREEMENT, THIS, ...</td>\n",
       "      <td>[O, O, B-DOC_NAME, I-DOC_NAME, O, B-DOC_NAME, ...</td>\n",
       "      <td>[6, 6, 1, 4, 6, 1, 4, 6, 6, 6, 6, 6, 6, 6, 6, ...</td>\n",
       "      <td>[Exhibit, 10.1, ENDORSEMENT, AGREEMENT, THIS, ...</td>\n",
       "    </tr>\n",
       "    <tr>\n",
       "      <th>4</th>\n",
       "      <td>15505</td>\n",
       "      <td>CONFIDENTIAL PORTIONS OMITTED EXHIBIT 10.16 [L...</td>\n",
       "      <td>[[78, 99, DOC_NAME], [105, 126, DOC_NAME], [18...</td>\n",
       "      <td>(CONFIDENTIAL, PORTIONS, OMITTED, EXHIBIT, 10....</td>\n",
       "      <td>[O, O, O, O, O, O, O, O, O, O, O, O, O, B-DOC_...</td>\n",
       "      <td>[6, 6, 6, 6, 6, 6, 6, 6, 6, 6, 6, 6, 6, 1, 4, ...</td>\n",
       "      <td>[CONFIDENTIAL, PORTIONS, OMITTED, EXHIBIT, 10....</td>\n",
       "    </tr>\n",
       "    <tr>\n",
       "      <th>5</th>\n",
       "      <td>15506</td>\n",
       "      <td>Exhibit 4.5 SUPPLY AGREEMENT between PROFOUND ...</td>\n",
       "      <td>[[12, 28, DOC_NAME], [37, 58, PARTY], [63, 101...</td>\n",
       "      <td>(Exhibit, 4.5, SUPPLY, AGREEMENT, between, PRO...</td>\n",
       "      <td>[O, O, B-DOC_NAME, I-DOC_NAME, O, B-PARTY, I-P...</td>\n",
       "      <td>[6, 6, 1, 4, 6, 2, 5, 5, 5, 6, 2, 5, 5, 5, 5, ...</td>\n",
       "      <td>[Exhibit, 4.5, SUPPLY, AGREEMENT, between, PRO...</td>\n",
       "    </tr>\n",
       "  </tbody>\n",
       "</table>\n",
       "</div>"
      ],
      "text/plain": [
       "      id                                               text  \\\n",
       "0  15501  Exhibit 99.1 JOINT FILING AGREEMENT The unders...   \n",
       "1  15502  [LOGO] AMENDMENT TO SECTION 2, PART B OF THE C...   \n",
       "2  15503  Exhibit 10.1 ENDORSEMENT AGREEMENT THIS ENDORS...   \n",
       "4  15505  CONFIDENTIAL PORTIONS OMITTED EXHIBIT 10.16 [L...   \n",
       "5  15506  Exhibit 4.5 SUPPLY AGREEMENT between PROFOUND ...   \n",
       "\n",
       "                                              labels  \\\n",
       "0  [[13, 35, DOC_NAME], [489, 505, AGMT_DATE], [5...   \n",
       "1  [[7, 66, DOC_NAME], [166, 182, AGMT_DATE], [19...   \n",
       "2  [[13, 34, DOC_NAME], [40, 61, DOC_NAME], [111,...   \n",
       "4  [[78, 99, DOC_NAME], [105, 126, DOC_NAME], [18...   \n",
       "5  [[12, 28, DOC_NAME], [37, 58, PARTY], [63, 101...   \n",
       "\n",
       "                                              tokens  \\\n",
       "0  (Exhibit, 99.1, JOINT, FILING, AGREEMENT, The,...   \n",
       "1  ([, LOGO, ], AMENDMENT, TO, SECTION, 2, ,, PAR...   \n",
       "2  (Exhibit, 10.1, ENDORSEMENT, AGREEMENT, THIS, ...   \n",
       "4  (CONFIDENTIAL, PORTIONS, OMITTED, EXHIBIT, 10....   \n",
       "5  (Exhibit, 4.5, SUPPLY, AGREEMENT, between, PRO...   \n",
       "\n",
       "                                                tags  \\\n",
       "0  [O, O, B-DOC_NAME, I-DOC_NAME, I-DOC_NAME, O, ...   \n",
       "1  [O, O, O, B-DOC_NAME, I-DOC_NAME, I-DOC_NAME, ...   \n",
       "2  [O, O, B-DOC_NAME, I-DOC_NAME, O, B-DOC_NAME, ...   \n",
       "4  [O, O, O, O, O, O, O, O, O, O, O, O, O, B-DOC_...   \n",
       "5  [O, O, B-DOC_NAME, I-DOC_NAME, O, B-PARTY, I-P...   \n",
       "\n",
       "                                            ner_tags  \\\n",
       "0  [6, 6, 1, 4, 4, 6, 6, 6, 6, 6, 6, 6, 6, 6, 6, ...   \n",
       "1  [6, 6, 6, 1, 4, 4, 4, 4, 4, 4, 4, 4, 4, 4, 4, ...   \n",
       "2  [6, 6, 1, 4, 6, 1, 4, 6, 6, 6, 6, 6, 6, 6, 6, ...   \n",
       "4  [6, 6, 6, 6, 6, 6, 6, 6, 6, 6, 6, 6, 6, 1, 4, ...   \n",
       "5  [6, 6, 1, 4, 6, 2, 5, 5, 5, 6, 2, 5, 5, 5, 5, ...   \n",
       "\n",
       "                                        split_tokens  \n",
       "0  [Exhibit, 99.1, JOINT, FILING, AGREEMENT, The,...  \n",
       "1  [[, LOGO, ], AMENDMENT, TO, SECTION, 2, ,, PAR...  \n",
       "2  [Exhibit, 10.1, ENDORSEMENT, AGREEMENT, THIS, ...  \n",
       "4  [CONFIDENTIAL, PORTIONS, OMITTED, EXHIBIT, 10....  \n",
       "5  [Exhibit, 4.5, SUPPLY, AGREEMENT, between, PRO...  "
      ]
     },
     "execution_count": 16,
     "metadata": {},
     "output_type": "execute_result"
    }
   ],
   "source": [
    "# Split tokens into a list ready for CSV\n",
    "df_cut['split_tokens'] = df_cut['tokens'].apply(lambda x: [tok.text for tok in x])\n",
    "\n",
    "# Check dataframe head\n",
    "df_cut.head()"
   ]
  },
  {
   "cell_type": "code",
   "execution_count": 17,
   "metadata": {},
   "outputs": [],
   "source": [
    "# Export relevant columns only:\n",
    "export_columns = ['id', 'ner_tags', 'split_tokens']\n",
    "export_df = df_cut[export_columns]\n",
    "export_df.to_json(DATA_FILE, orient=\"table\", index=False)"
   ]
  },
  {
   "cell_type": "code",
   "execution_count": 18,
   "metadata": {},
   "outputs": [],
   "source": [
    "# Export Feature Class Labels for use in Transformer fine tuning\n",
    "with open(FEATURE_CLASS_LABELS, 'w') as f:\n",
    "    json.dump(feature_class_labels, f, indent=2) "
   ]
  },
  {
   "cell_type": "markdown",
   "metadata": {},
   "source": [
    "#### The dataset is now ready for any transformer model!"
   ]
  }
 ],
 "metadata": {
  "kernelspec": {
   "display_name": "Python 3",
   "language": "python",
   "name": "python3"
  },
  "language_info": {
   "codemirror_mode": {
    "name": "ipython",
    "version": 3
   },
   "file_extension": ".py",
   "mimetype": "text/x-python",
   "name": "python",
   "nbconvert_exporter": "python",
   "pygments_lexer": "ipython3",
   "version": "3.8.8"
  }
 },
 "nbformat": 4,
 "nbformat_minor": 4
}
